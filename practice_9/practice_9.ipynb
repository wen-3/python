{
 "cells": [
  {
   "cell_type": "code",
   "execution_count": 1,
   "metadata": {},
   "outputs": [],
   "source": [
    "content = '''Hello Python\n",
    "中文字測試\n",
    "Welcome '''\n",
    "\n",
    "f = open('file1.txt','w',encoding='UTF-8')\n",
    "f.write(content)\n",
    "f.close()"
   ]
  },
  {
   "cell_type": "code",
   "execution_count": 2,
   "metadata": {},
   "outputs": [
    {
     "name": "stdout",
     "output_type": "stream",
     "text": [
      "Hello Python\n",
      "中文字測試\n",
      "Welcome "
     ]
    }
   ],
   "source": [
    "ff = open('file1.txt','r',encoding='UTF-8')\n",
    "for line in ff:\n",
    "    print(line, end = \"\")\n",
    "ff.close()"
   ]
  },
  {
   "cell_type": "code",
   "execution_count": 3,
   "metadata": {},
   "outputs": [
    {
     "name": "stdout",
     "output_type": "stream",
     "text": [
      "Hello Python\n",
      "中文字測試\n",
      "Welcome \n"
     ]
    }
   ],
   "source": [
    "with open('file1.txt','r',encoding='UTF-8') as f:\n",
    "    print(f.read())"
   ]
  },
  {
   "cell_type": "code",
   "execution_count": 4,
   "metadata": {
    "scrolled": true
   },
   "outputs": [
    {
     "name": "stdout",
     "output_type": "stream",
     "text": [
      "共有 27 個字元\n"
     ]
    }
   ],
   "source": [
    "file = \"file1.txt\"\n",
    "with open(file,'r',encoding='UTF-8') as f:\n",
    "    content = f.read()\n",
    "    print(\"共有\",len(content),\"個字元\")"
   ]
  },
  {
   "cell_type": "code",
   "execution_count": 5,
   "metadata": {},
   "outputs": [
    {
     "name": "stdout",
     "output_type": "stream",
     "text": [
      "請輸入檔案名稱:file1.txt\n",
      "Hello Python\n",
      "中文字測試\n",
      "Welcome \n"
     ]
    }
   ],
   "source": [
    "file = input(\"請輸入檔案名稱:\")\n",
    "try:\n",
    "    with open(file,'r',encoding='UTF-8') as f:\n",
    "        content = f.read()\n",
    "        print(content)\n",
    "except:\n",
    "    print(\"輸入檔案不存在或檔案開啟錯誤\")"
   ]
  },
  {
   "cell_type": "code",
   "execution_count": 6,
   "metadata": {},
   "outputs": [
    {
     "name": "stdout",
     "output_type": "stream",
     "text": [
      "輸入第一個正整數:8\n",
      "輸入第二個正整數:2\n",
      "兩數相除結果為 4.0\n"
     ]
    }
   ],
   "source": [
    "try:\n",
    "    num1 = int(input(\"輸入第一個正整數:\"))\n",
    "    num2 = int(input(\"輸入第二個正整數:\"))\n",
    "    result = num1 / num2\n",
    "    print(\"兩數相除結果為\", result)\n",
    "except ValueError:\n",
    "    print(\"輸入非數值的錯誤!\")\n",
    "except ZeroDivisionError:\n",
    "    print(\"分母為0的錯誤!\")\n",
    "except:\n",
    "    print(\"發生為0的錯誤\")"
   ]
  },
  {
   "cell_type": "code",
   "execution_count": 7,
   "metadata": {},
   "outputs": [
    {
     "name": "stdout",
     "output_type": "stream",
     "text": [
      "請輸入第一個整數:5\n",
      "請輸入第二個整數:2\n",
      "r= 7\n"
     ]
    }
   ],
   "source": [
    "try:\n",
    "    a = int(input(\"請輸入第一個整數:\"))\n",
    "    b = int(input(\"請輸入第二個整數:\"))\n",
    "    r = a + b\n",
    "    print(\"r=\",r)\n",
    "except:\n",
    "    print(\"發生非數值的錯誤!\")"
   ]
  },
  {
   "cell_type": "code",
   "execution_count": 8,
   "metadata": {},
   "outputs": [],
   "source": [
    "content = '''Asdf j213k as kfjas 932kk s8aklsd\n",
    "Asd klfj 823kjds\n",
    "23ksad f9ksdaf\n",
    "asdfj89as df8kasdf'''\n",
    "\n",
    "f = open('in_a.txt','w',encoding='UTF-8')\n",
    "f.write(content)\n",
    "f.close()"
   ]
  },
  {
   "cell_type": "code",
   "execution_count": 9,
   "metadata": {},
   "outputs": [
    {
     "name": "stdout",
     "output_type": "stream",
     "text": [
      "字元數= 34 : Asdf j213k as kfjas 932kk s8aklsd\n",
      "\n",
      "字元數= 17 : Asd klfj 823kjds\n",
      "\n",
      "字元數= 15 : 23ksad f9ksdaf\n",
      "\n",
      "字元數= 18 : asdfj89as df8kasdf\n"
     ]
    }
   ],
   "source": [
    "file = \"in_a.txt\"\n",
    "with open(file,'r',encoding='UTF-8') as f:\n",
    "    content = f.readlines()\n",
    "for row  in content:\n",
    "    n = len(row)\n",
    "    print(\"字元數= %d : %s\" %(n, row))"
   ]
  },
  {
   "cell_type": "code",
   "execution_count": 10,
   "metadata": {},
   "outputs": [
    {
     "name": "stdout",
     "output_type": "stream",
     "text": [
      "共有 10 個 A 或 a 字元\n",
      "共有 10 個 A 或 a 字元\n"
     ]
    }
   ],
   "source": [
    "file = \"in_a.txt\"\n",
    "with open(file,'r',encoding='UTF-8') as f:\n",
    "    content = f.read()\n",
    "n = 0\n",
    "for ch in content:\n",
    "    if (ch ==\"A\" or ch == \"a\"):\n",
    "        n+=1\n",
    "print(\"共有\",n,\"個 A 或 a 字元\")\n",
    "\n",
    "n1 = content.count('A') + content.count('a')\n",
    "print(\"共有\",n1,\"個 A 或 a 字元\")"
   ]
  },
  {
   "cell_type": "code",
   "execution_count": 11,
   "metadata": {},
   "outputs": [
    {
     "name": "stdout",
     "output_type": "stream",
     "text": [
      "請輸入正整數 n:12\n",
      "1 2 3 4 5 6 7 8 9 10 11 12 "
     ]
    }
   ],
   "source": [
    "try:\n",
    "    n = int(input(\"請輸入正整數 n:\"))\n",
    "    for i in range(1,n+1):\n",
    "        print(i, end=\" \")\n",
    "except:\n",
    "    print(\"發生非數值的錯誤!\")"
   ]
  },
  {
   "cell_type": "code",
   "execution_count": 13,
   "metadata": {
    "scrolled": true
   },
   "outputs": [
    {
     "data": {
      "image/png": "[encoded data removed]",
      "text/plain": [
       "<Figure size 432x288 with 1 Axes>"
      ]
     },
     "metadata": {
      "needs_background": "light"
     },
     "output_type": "display_data"
    }
   ],
   "source": [
    "import matplotlib.pyplot as plt\n",
    "squares = [1, 4, 9, 16, 25, 36, 79, 64]\n",
    "plt.plot(squares, linewidth = 3)\n",
    "plt.title(\"Test Chart\")\n",
    "plt.xlabel(\"Value\")\n",
    "plt.ylabel(\"Square\")\n",
    "plt.show()"
   ]
  },
  {
   "cell_type": "code",
   "execution_count": null,
   "metadata": {},
   "outputs": [],
   "source": []
  }
 ],
 "metadata": {
  "kernelspec": {
   "display_name": "Python 3",
   "language": "python",
   "name": "python3"
  },
  "language_info": {
   "codemirror_mode": {
    "name": "ipython",
    "version": 3
   },
   "file_extension": ".py",
   "mimetype": "text/x-python",
   "name": "python",
   "nbconvert_exporter": "python",
   "pygments_lexer": "ipython3",
   "version": "3.7.3"
  }
 },
 "nbformat": 4,
 "nbformat_minor": 2
}
